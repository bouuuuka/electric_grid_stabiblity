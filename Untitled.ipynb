{
 "cells": [
  {
   "cell_type": "code",
   "execution_count": 1,
   "id": "38fd7ded",
   "metadata": {},
   "outputs": [],
   "source": [
    "import pandas as pd "
   ]
  },
  {
   "cell_type": "code",
   "execution_count": 1,
   "id": "918b65c5",
   "metadata": {
    "collapsed": true
   },
   "outputs": [
    {
     "name": "stdout",
     "output_type": "stream",
     "text": [
      "Requirement already satisfied: pandas in c:\\users\\bkttm\\appdata\\local\\programs\\python\\python310\\lib\\site-packages (1.5.2)\n",
      "Requirement already satisfied: numpy>=1.21.0 in c:\\users\\bkttm\\appdata\\local\\programs\\python\\python310\\lib\\site-packages (from pandas) (1.23.5)\n",
      "Requirement already satisfied: python-dateutil>=2.8.1 in c:\\users\\bkttm\\appdata\\local\\programs\\python\\python310\\lib\\site-packages (from pandas) (2.8.2)\n",
      "Requirement already satisfied: pytz>=2020.1 in c:\\users\\bkttm\\appdata\\local\\programs\\python\\python310\\lib\\site-packages (from pandas) (2022.6)\n",
      "Requirement already satisfied: six>=1.5 in c:\\users\\bkttm\\appdata\\local\\programs\\python\\python310\\lib\\site-packages (from python-dateutil>=2.8.1->pandas) (1.16.0)\n"
     ]
    },
    {
     "name": "stderr",
     "output_type": "stream",
     "text": [
      "\n",
      "[notice] A new release of pip available: 22.3.1 -> 23.1.2\n",
      "[notice] To update, run: python.exe -m pip install --upgrade pip\n"
     ]
    }
   ],
   "source": [
    "!pip install pandas "
   ]
  },
  {
   "cell_type": "code",
   "execution_count": 3,
   "id": "d1072cb3",
   "metadata": {},
   "outputs": [],
   "source": [
    "import numpy as np "
   ]
  },
  {
   "cell_type": "code",
   "execution_count": 2,
   "id": "cc1a72be",
   "metadata": {
    "collapsed": true
   },
   "outputs": [
    {
     "name": "stdout",
     "output_type": "stream",
     "text": [
      "Requirement already satisfied: pandas in c:\\users\\bkttm\\appdata\\local\\programs\\python\\python310\\lib\\site-packages (1.5.2)\n",
      "Requirement already satisfied: python-dateutil>=2.8.1 in c:\\users\\bkttm\\appdata\\local\\programs\\python\\python310\\lib\\site-packages (from pandas) (2.8.2)\n",
      "Requirement already satisfied: numpy>=1.21.0 in c:\\users\\bkttm\\appdata\\local\\programs\\python\\python310\\lib\\site-packages (from pandas) (1.23.5)\n",
      "Requirement already satisfied: pytz>=2020.1 in c:\\users\\bkttm\\appdata\\local\\programs\\python\\python310\\lib\\site-packages (from pandas) (2022.6)\n",
      "Requirement already satisfied: six>=1.5 in c:\\users\\bkttm\\appdata\\local\\programs\\python\\python310\\lib\\site-packages (from python-dateutil>=2.8.1->pandas) (1.16.0)\n"
     ]
    },
    {
     "name": "stderr",
     "output_type": "stream",
     "text": [
      "\n",
      "[notice] A new release of pip available: 22.3.1 -> 23.1.2\n",
      "[notice] To update, run: python.exe -m pip install --upgrade pip\n"
     ]
    }
   ],
   "source": [
    "!pip --default-timeout=3000 install pandas"
   ]
  },
  {
   "cell_type": "code",
   "execution_count": 5,
   "id": "54b4851c",
   "metadata": {},
   "outputs": [],
   "source": [
    "import matplotlib.pyplot as plt \n"
   ]
  },
  {
   "cell_type": "code",
   "execution_count": 6,
   "id": "ec50e4ae",
   "metadata": {
    "collapsed": true
   },
   "outputs": [
    {
     "name": "stderr",
     "output_type": "stream",
     "text": [
      "ERROR: Could not find a version that satisfies the requirement sklearn.model_selection (from versions: none)\n",
      "ERROR: No matching distribution found for sklearn.model_selection\n",
      "\n",
      "[notice] A new release of pip available: 22.3.1 -> 23.1.2\n",
      "[notice] To update, run: python.exe -m pip install --upgrade pip\n"
     ]
    }
   ],
   "source": [
    "!pip install sklearn.model_selection\n"
   ]
  },
  {
   "cell_type": "code",
   "execution_count": 7,
   "id": "008705f6",
   "metadata": {
    "collapsed": true
   },
   "outputs": [
    {
     "name": "stdout",
     "output_type": "stream",
     "text": [
      "Requirement already satisfied: scikit-learn in c:\\users\\bkttm\\appdata\\local\\programs\\python\\python310\\lib\\site-packages (1.2.0)\n",
      "Requirement already satisfied: threadpoolctl>=2.0.0 in c:\\users\\bkttm\\appdata\\local\\programs\\python\\python310\\lib\\site-packages (from scikit-learn) (3.1.0)\n",
      "Requirement already satisfied: numpy>=1.17.3 in c:\\users\\bkttm\\appdata\\local\\programs\\python\\python310\\lib\\site-packages (from scikit-learn) (1.23.5)\n",
      "Requirement already satisfied: scipy>=1.3.2 in c:\\users\\bkttm\\appdata\\local\\programs\\python\\python310\\lib\\site-packages (from scikit-learn) (1.9.3)\n",
      "Requirement already satisfied: joblib>=1.1.1 in c:\\users\\bkttm\\appdata\\local\\programs\\python\\python310\\lib\\site-packages (from scikit-learn) (1.2.0)\n"
     ]
    },
    {
     "name": "stderr",
     "output_type": "stream",
     "text": [
      "\n",
      "[notice] A new release of pip available: 22.3.1 -> 23.1.2\n",
      "[notice] To update, run: python.exe -m pip install --upgrade pip\n"
     ]
    }
   ],
   "source": [
    "!pip --default-timeout=3000 install scikit-learn"
   ]
  },
  {
   "cell_type": "code",
   "execution_count": 8,
   "id": "c706cdc3",
   "metadata": {},
   "outputs": [],
   "source": [
    "from sklearn.model_selection import train_test_split"
   ]
  },
  {
   "cell_type": "code",
   "execution_count": 9,
   "id": "604f7142",
   "metadata": {},
   "outputs": [],
   "source": [
    "import seaborn as sns"
   ]
  },
  {
   "cell_type": "code",
   "execution_count": 10,
   "id": "5670ed97",
   "metadata": {
    "collapsed": true
   },
   "outputs": [
    {
     "name": "stdout",
     "output_type": "stream",
     "text": [
      "Requirement already satisfied: seaborn in c:\\users\\bkttm\\appdata\\local\\programs\\python\\python310\\lib\\site-packages (0.12.2)\n",
      "Requirement already satisfied: numpy!=1.24.0,>=1.17 in c:\\users\\bkttm\\appdata\\local\\programs\\python\\python310\\lib\\site-packages (from seaborn) (1.23.5)\n",
      "Requirement already satisfied: matplotlib!=3.6.1,>=3.1 in c:\\users\\bkttm\\appdata\\local\\programs\\python\\python310\\lib\\site-packages (from seaborn) (3.6.2)\n",
      "Requirement already satisfied: pandas>=0.25 in c:\\users\\bkttm\\appdata\\local\\programs\\python\\python310\\lib\\site-packages (from seaborn) (1.5.2)\n",
      "Requirement already satisfied: cycler>=0.10 in c:\\users\\bkttm\\appdata\\local\\programs\\python\\python310\\lib\\site-packages (from matplotlib!=3.6.1,>=3.1->seaborn) (0.11.0)\n",
      "Requirement already satisfied: fonttools>=4.22.0 in c:\\users\\bkttm\\appdata\\local\\programs\\python\\python310\\lib\\site-packages (from matplotlib!=3.6.1,>=3.1->seaborn) (4.38.0)\n",
      "Requirement already satisfied: packaging>=20.0 in c:\\users\\bkttm\\appdata\\local\\programs\\python\\python310\\lib\\site-packages (from matplotlib!=3.6.1,>=3.1->seaborn) (22.0)\n",
      "Requirement already satisfied: pillow>=6.2.0 in c:\\users\\bkttm\\appdata\\local\\programs\\python\\python310\\lib\\site-packages (from matplotlib!=3.6.1,>=3.1->seaborn) (9.3.0)\n",
      "Requirement already satisfied: python-dateutil>=2.7 in c:\\users\\bkttm\\appdata\\local\\programs\\python\\python310\\lib\\site-packages (from matplotlib!=3.6.1,>=3.1->seaborn) (2.8.2)\n",
      "Requirement already satisfied: kiwisolver>=1.0.1 in c:\\users\\bkttm\\appdata\\local\\programs\\python\\python310\\lib\\site-packages (from matplotlib!=3.6.1,>=3.1->seaborn) (1.4.4)\n",
      "Requirement already satisfied: contourpy>=1.0.1 in c:\\users\\bkttm\\appdata\\local\\programs\\python\\python310\\lib\\site-packages (from matplotlib!=3.6.1,>=3.1->seaborn) (1.0.6)\n",
      "Requirement already satisfied: pyparsing>=2.2.1 in c:\\users\\bkttm\\appdata\\local\\programs\\python\\python310\\lib\\site-packages (from matplotlib!=3.6.1,>=3.1->seaborn) (3.0.9)\n",
      "Requirement already satisfied: pytz>=2020.1 in c:\\users\\bkttm\\appdata\\local\\programs\\python\\python310\\lib\\site-packages (from pandas>=0.25->seaborn) (2022.6)\n",
      "Requirement already satisfied: six>=1.5 in c:\\users\\bkttm\\appdata\\local\\programs\\python\\python310\\lib\\site-packages (from python-dateutil>=2.7->matplotlib!=3.6.1,>=3.1->seaborn) (1.16.0)\n"
     ]
    },
    {
     "name": "stderr",
     "output_type": "stream",
     "text": [
      "\n",
      "[notice] A new release of pip available: 22.3.1 -> 23.1.2\n",
      "[notice] To update, run: python.exe -m pip install --upgrade pip\n"
     ]
    }
   ],
   "source": [
    "!pip --default-timeout=3000 install seaborn"
   ]
  },
  {
   "cell_type": "code",
   "execution_count": 11,
   "id": "72ae818a",
   "metadata": {},
   "outputs": [],
   "source": [
    "#read data from csv file \n",
    "import pandas as pd\n",
    "data=pd.read_csv(r\"C:\\Users\\bkttm\\OneDrive\\Bureau\\pcd\\Data_for_UCI_named.csv\") \n",
    "#data.sample(10) \n"
   ]
  },
  {
   "cell_type": "code",
   "execution_count": 12,
   "id": "0a523b12",
   "metadata": {},
   "outputs": [
    {
     "data": {
      "text/plain": [
       "(10000, 14)"
      ]
     },
     "execution_count": 12,
     "metadata": {},
     "output_type": "execute_result"
    }
   ],
   "source": [
    "data.shape"
   ]
  },
  {
   "cell_type": "code",
   "execution_count": 13,
   "id": "355e2bb0",
   "metadata": {},
   "outputs": [],
   "source": [
    "data[\"stabf\"]=data[\"stabf\"].replace([\"unstable\",\"stable\"],[0,1])"
   ]
  },
  {
   "cell_type": "code",
   "execution_count": 14,
   "id": "88a297a8",
   "metadata": {},
   "outputs": [
    {
     "data": {
      "text/html": [
       "<div>\n",
       "<style scoped>\n",
       "    .dataframe tbody tr th:only-of-type {\n",
       "        vertical-align: middle;\n",
       "    }\n",
       "\n",
       "    .dataframe tbody tr th {\n",
       "        vertical-align: top;\n",
       "    }\n",
       "\n",
       "    .dataframe thead th {\n",
       "        text-align: right;\n",
       "    }\n",
       "</style>\n",
       "<table border=\"1\" class=\"dataframe\">\n",
       "  <thead>\n",
       "    <tr style=\"text-align: right;\">\n",
       "      <th></th>\n",
       "      <th>tau1</th>\n",
       "      <th>tau2</th>\n",
       "      <th>tau3</th>\n",
       "      <th>tau4</th>\n",
       "      <th>p1</th>\n",
       "      <th>p2</th>\n",
       "      <th>p3</th>\n",
       "      <th>p4</th>\n",
       "      <th>g1</th>\n",
       "      <th>g2</th>\n",
       "      <th>g3</th>\n",
       "      <th>g4</th>\n",
       "      <th>stab</th>\n",
       "      <th>stabf</th>\n",
       "    </tr>\n",
       "  </thead>\n",
       "  <tbody>\n",
       "    <tr>\n",
       "      <th>2691</th>\n",
       "      <td>6.535746</td>\n",
       "      <td>1.409433</td>\n",
       "      <td>7.239617</td>\n",
       "      <td>7.489349</td>\n",
       "      <td>3.004358</td>\n",
       "      <td>-1.256547</td>\n",
       "      <td>-1.122556</td>\n",
       "      <td>-0.625255</td>\n",
       "      <td>0.393451</td>\n",
       "      <td>0.653904</td>\n",
       "      <td>0.922985</td>\n",
       "      <td>0.322903</td>\n",
       "      <td>0.030650</td>\n",
       "      <td>0</td>\n",
       "    </tr>\n",
       "    <tr>\n",
       "      <th>4366</th>\n",
       "      <td>5.094263</td>\n",
       "      <td>1.444548</td>\n",
       "      <td>9.486066</td>\n",
       "      <td>3.204600</td>\n",
       "      <td>4.918363</td>\n",
       "      <td>-1.919878</td>\n",
       "      <td>-1.967219</td>\n",
       "      <td>-1.031267</td>\n",
       "      <td>0.785067</td>\n",
       "      <td>0.982949</td>\n",
       "      <td>0.542640</td>\n",
       "      <td>0.925056</td>\n",
       "      <td>0.007050</td>\n",
       "      <td>0</td>\n",
       "    </tr>\n",
       "    <tr>\n",
       "      <th>7188</th>\n",
       "      <td>8.648181</td>\n",
       "      <td>7.236108</td>\n",
       "      <td>1.673053</td>\n",
       "      <td>6.595763</td>\n",
       "      <td>3.180135</td>\n",
       "      <td>-1.711281</td>\n",
       "      <td>-0.809585</td>\n",
       "      <td>-0.659269</td>\n",
       "      <td>0.314467</td>\n",
       "      <td>0.104193</td>\n",
       "      <td>0.569556</td>\n",
       "      <td>0.809501</td>\n",
       "      <td>0.004948</td>\n",
       "      <td>0</td>\n",
       "    </tr>\n",
       "    <tr>\n",
       "      <th>1015</th>\n",
       "      <td>3.240203</td>\n",
       "      <td>3.461159</td>\n",
       "      <td>5.062508</td>\n",
       "      <td>3.670835</td>\n",
       "      <td>2.913301</td>\n",
       "      <td>-0.685528</td>\n",
       "      <td>-0.983516</td>\n",
       "      <td>-1.244258</td>\n",
       "      <td>0.112304</td>\n",
       "      <td>0.877033</td>\n",
       "      <td>0.327194</td>\n",
       "      <td>0.624050</td>\n",
       "      <td>0.022490</td>\n",
       "      <td>0</td>\n",
       "    </tr>\n",
       "    <tr>\n",
       "      <th>3267</th>\n",
       "      <td>7.347920</td>\n",
       "      <td>0.798146</td>\n",
       "      <td>6.670383</td>\n",
       "      <td>0.659571</td>\n",
       "      <td>3.450091</td>\n",
       "      <td>-0.799796</td>\n",
       "      <td>-1.585056</td>\n",
       "      <td>-1.065239</td>\n",
       "      <td>0.223997</td>\n",
       "      <td>0.546065</td>\n",
       "      <td>0.321172</td>\n",
       "      <td>0.342038</td>\n",
       "      <td>-0.036052</td>\n",
       "      <td>1</td>\n",
       "    </tr>\n",
       "    <tr>\n",
       "      <th>5871</th>\n",
       "      <td>7.928837</td>\n",
       "      <td>5.713424</td>\n",
       "      <td>9.036295</td>\n",
       "      <td>7.485592</td>\n",
       "      <td>2.925493</td>\n",
       "      <td>-0.612939</td>\n",
       "      <td>-0.637119</td>\n",
       "      <td>-1.675435</td>\n",
       "      <td>0.285165</td>\n",
       "      <td>0.284317</td>\n",
       "      <td>0.867404</td>\n",
       "      <td>0.229823</td>\n",
       "      <td>0.040790</td>\n",
       "      <td>0</td>\n",
       "    </tr>\n",
       "  </tbody>\n",
       "</table>\n",
       "</div>"
      ],
      "text/plain": [
       "          tau1      tau2      tau3      tau4        p1        p2        p3  \\\n",
       "2691  6.535746  1.409433  7.239617  7.489349  3.004358 -1.256547 -1.122556   \n",
       "4366  5.094263  1.444548  9.486066  3.204600  4.918363 -1.919878 -1.967219   \n",
       "7188  8.648181  7.236108  1.673053  6.595763  3.180135 -1.711281 -0.809585   \n",
       "1015  3.240203  3.461159  5.062508  3.670835  2.913301 -0.685528 -0.983516   \n",
       "3267  7.347920  0.798146  6.670383  0.659571  3.450091 -0.799796 -1.585056   \n",
       "5871  7.928837  5.713424  9.036295  7.485592  2.925493 -0.612939 -0.637119   \n",
       "\n",
       "            p4        g1        g2        g3        g4      stab  stabf  \n",
       "2691 -0.625255  0.393451  0.653904  0.922985  0.322903  0.030650      0  \n",
       "4366 -1.031267  0.785067  0.982949  0.542640  0.925056  0.007050      0  \n",
       "7188 -0.659269  0.314467  0.104193  0.569556  0.809501  0.004948      0  \n",
       "1015 -1.244258  0.112304  0.877033  0.327194  0.624050  0.022490      0  \n",
       "3267 -1.065239  0.223997  0.546065  0.321172  0.342038 -0.036052      1  \n",
       "5871 -1.675435  0.285165  0.284317  0.867404  0.229823  0.040790      0  "
      ]
     },
     "execution_count": 14,
     "metadata": {},
     "output_type": "execute_result"
    }
   ],
   "source": [
    "data.sample(6)"
   ]
  },
  {
   "cell_type": "code",
   "execution_count": 15,
   "id": "5a9a4b01",
   "metadata": {},
   "outputs": [
    {
     "data": {
      "text/html": [
       "<div>\n",
       "<style scoped>\n",
       "    .dataframe tbody tr th:only-of-type {\n",
       "        vertical-align: middle;\n",
       "    }\n",
       "\n",
       "    .dataframe tbody tr th {\n",
       "        vertical-align: top;\n",
       "    }\n",
       "\n",
       "    .dataframe thead th {\n",
       "        text-align: right;\n",
       "    }\n",
       "</style>\n",
       "<table border=\"1\" class=\"dataframe\">\n",
       "  <thead>\n",
       "    <tr style=\"text-align: right;\">\n",
       "      <th></th>\n",
       "      <th>tau1</th>\n",
       "      <th>tau2</th>\n",
       "      <th>tau3</th>\n",
       "      <th>tau4</th>\n",
       "      <th>p1</th>\n",
       "      <th>p2</th>\n",
       "      <th>p3</th>\n",
       "      <th>p4</th>\n",
       "      <th>g1</th>\n",
       "      <th>g2</th>\n",
       "      <th>g3</th>\n",
       "      <th>g4</th>\n",
       "      <th>stab</th>\n",
       "      <th>stabf</th>\n",
       "    </tr>\n",
       "  </thead>\n",
       "  <tbody>\n",
       "    <tr>\n",
       "      <th>count</th>\n",
       "      <td>10000.000000</td>\n",
       "      <td>10000.000000</td>\n",
       "      <td>10000.000000</td>\n",
       "      <td>10000.000000</td>\n",
       "      <td>10000.000000</td>\n",
       "      <td>10000.000000</td>\n",
       "      <td>10000.000000</td>\n",
       "      <td>10000.000000</td>\n",
       "      <td>10000.000000</td>\n",
       "      <td>10000.000000</td>\n",
       "      <td>10000.000000</td>\n",
       "      <td>10000.000000</td>\n",
       "      <td>10000.000000</td>\n",
       "      <td>10000.000000</td>\n",
       "    </tr>\n",
       "    <tr>\n",
       "      <th>mean</th>\n",
       "      <td>5.250000</td>\n",
       "      <td>5.250001</td>\n",
       "      <td>5.250004</td>\n",
       "      <td>5.249997</td>\n",
       "      <td>3.750000</td>\n",
       "      <td>-1.250000</td>\n",
       "      <td>-1.250000</td>\n",
       "      <td>-1.250000</td>\n",
       "      <td>0.525000</td>\n",
       "      <td>0.525000</td>\n",
       "      <td>0.525000</td>\n",
       "      <td>0.525000</td>\n",
       "      <td>0.015731</td>\n",
       "      <td>0.362000</td>\n",
       "    </tr>\n",
       "    <tr>\n",
       "      <th>std</th>\n",
       "      <td>2.742548</td>\n",
       "      <td>2.742549</td>\n",
       "      <td>2.742549</td>\n",
       "      <td>2.742556</td>\n",
       "      <td>0.752160</td>\n",
       "      <td>0.433035</td>\n",
       "      <td>0.433035</td>\n",
       "      <td>0.433035</td>\n",
       "      <td>0.274256</td>\n",
       "      <td>0.274255</td>\n",
       "      <td>0.274255</td>\n",
       "      <td>0.274255</td>\n",
       "      <td>0.036919</td>\n",
       "      <td>0.480603</td>\n",
       "    </tr>\n",
       "    <tr>\n",
       "      <th>min</th>\n",
       "      <td>0.500793</td>\n",
       "      <td>0.500141</td>\n",
       "      <td>0.500788</td>\n",
       "      <td>0.500473</td>\n",
       "      <td>1.582590</td>\n",
       "      <td>-1.999891</td>\n",
       "      <td>-1.999945</td>\n",
       "      <td>-1.999926</td>\n",
       "      <td>0.050009</td>\n",
       "      <td>0.050053</td>\n",
       "      <td>0.050054</td>\n",
       "      <td>0.050028</td>\n",
       "      <td>-0.080760</td>\n",
       "      <td>0.000000</td>\n",
       "    </tr>\n",
       "    <tr>\n",
       "      <th>25%</th>\n",
       "      <td>2.874892</td>\n",
       "      <td>2.875140</td>\n",
       "      <td>2.875522</td>\n",
       "      <td>2.874950</td>\n",
       "      <td>3.218300</td>\n",
       "      <td>-1.624901</td>\n",
       "      <td>-1.625025</td>\n",
       "      <td>-1.624960</td>\n",
       "      <td>0.287521</td>\n",
       "      <td>0.287552</td>\n",
       "      <td>0.287514</td>\n",
       "      <td>0.287494</td>\n",
       "      <td>-0.015557</td>\n",
       "      <td>0.000000</td>\n",
       "    </tr>\n",
       "    <tr>\n",
       "      <th>50%</th>\n",
       "      <td>5.250004</td>\n",
       "      <td>5.249981</td>\n",
       "      <td>5.249979</td>\n",
       "      <td>5.249734</td>\n",
       "      <td>3.751025</td>\n",
       "      <td>-1.249966</td>\n",
       "      <td>-1.249974</td>\n",
       "      <td>-1.250007</td>\n",
       "      <td>0.525009</td>\n",
       "      <td>0.525003</td>\n",
       "      <td>0.525015</td>\n",
       "      <td>0.525002</td>\n",
       "      <td>0.017142</td>\n",
       "      <td>0.000000</td>\n",
       "    </tr>\n",
       "    <tr>\n",
       "      <th>75%</th>\n",
       "      <td>7.624690</td>\n",
       "      <td>7.624893</td>\n",
       "      <td>7.624948</td>\n",
       "      <td>7.624838</td>\n",
       "      <td>4.282420</td>\n",
       "      <td>-0.874977</td>\n",
       "      <td>-0.875043</td>\n",
       "      <td>-0.875065</td>\n",
       "      <td>0.762435</td>\n",
       "      <td>0.762490</td>\n",
       "      <td>0.762440</td>\n",
       "      <td>0.762433</td>\n",
       "      <td>0.044878</td>\n",
       "      <td>1.000000</td>\n",
       "    </tr>\n",
       "    <tr>\n",
       "      <th>max</th>\n",
       "      <td>9.999469</td>\n",
       "      <td>9.999837</td>\n",
       "      <td>9.999450</td>\n",
       "      <td>9.999443</td>\n",
       "      <td>5.864418</td>\n",
       "      <td>-0.500108</td>\n",
       "      <td>-0.500072</td>\n",
       "      <td>-0.500025</td>\n",
       "      <td>0.999937</td>\n",
       "      <td>0.999944</td>\n",
       "      <td>0.999982</td>\n",
       "      <td>0.999930</td>\n",
       "      <td>0.109403</td>\n",
       "      <td>1.000000</td>\n",
       "    </tr>\n",
       "  </tbody>\n",
       "</table>\n",
       "</div>"
      ],
      "text/plain": [
       "               tau1          tau2          tau3          tau4            p1  \\\n",
       "count  10000.000000  10000.000000  10000.000000  10000.000000  10000.000000   \n",
       "mean       5.250000      5.250001      5.250004      5.249997      3.750000   \n",
       "std        2.742548      2.742549      2.742549      2.742556      0.752160   \n",
       "min        0.500793      0.500141      0.500788      0.500473      1.582590   \n",
       "25%        2.874892      2.875140      2.875522      2.874950      3.218300   \n",
       "50%        5.250004      5.249981      5.249979      5.249734      3.751025   \n",
       "75%        7.624690      7.624893      7.624948      7.624838      4.282420   \n",
       "max        9.999469      9.999837      9.999450      9.999443      5.864418   \n",
       "\n",
       "                 p2            p3            p4            g1            g2  \\\n",
       "count  10000.000000  10000.000000  10000.000000  10000.000000  10000.000000   \n",
       "mean      -1.250000     -1.250000     -1.250000      0.525000      0.525000   \n",
       "std        0.433035      0.433035      0.433035      0.274256      0.274255   \n",
       "min       -1.999891     -1.999945     -1.999926      0.050009      0.050053   \n",
       "25%       -1.624901     -1.625025     -1.624960      0.287521      0.287552   \n",
       "50%       -1.249966     -1.249974     -1.250007      0.525009      0.525003   \n",
       "75%       -0.874977     -0.875043     -0.875065      0.762435      0.762490   \n",
       "max       -0.500108     -0.500072     -0.500025      0.999937      0.999944   \n",
       "\n",
       "                 g3            g4          stab         stabf  \n",
       "count  10000.000000  10000.000000  10000.000000  10000.000000  \n",
       "mean       0.525000      0.525000      0.015731      0.362000  \n",
       "std        0.274255      0.274255      0.036919      0.480603  \n",
       "min        0.050054      0.050028     -0.080760      0.000000  \n",
       "25%        0.287514      0.287494     -0.015557      0.000000  \n",
       "50%        0.525015      0.525002      0.017142      0.000000  \n",
       "75%        0.762440      0.762433      0.044878      1.000000  \n",
       "max        0.999982      0.999930      0.109403      1.000000  "
      ]
     },
     "execution_count": 15,
     "metadata": {},
     "output_type": "execute_result"
    }
   ],
   "source": [
    "data.describe()"
   ]
  },
  {
   "cell_type": "code",
   "execution_count": 16,
   "id": "983f7977",
   "metadata": {},
   "outputs": [
    {
     "data": {
      "text/plain": [
       "tau1     0\n",
       "tau2     0\n",
       "tau3     0\n",
       "tau4     0\n",
       "p1       0\n",
       "p2       0\n",
       "p3       0\n",
       "p4       0\n",
       "g1       0\n",
       "g2       0\n",
       "g3       0\n",
       "g4       0\n",
       "stab     0\n",
       "stabf    0\n",
       "dtype: int64"
      ]
     },
     "execution_count": 16,
     "metadata": {},
     "output_type": "execute_result"
    }
   ],
   "source": [
    "data.isnull().sum()"
   ]
  },
  {
   "cell_type": "code",
   "execution_count": 17,
   "id": "258a313e",
   "metadata": {},
   "outputs": [
    {
     "data": {
      "image/png": "[encoded data removed]",
      "text/plain": [
       "<Figure size 500x500 with 2 Axes>"
      ]
     },
     "metadata": {},
     "output_type": "display_data"
    }
   ],
   "source": [
    "  "
   ]
  },
  {
   "cell_type": "code",
   "execution_count": 18,
   "id": "cea96937",
   "metadata": {},
   "outputs": [
    {
     "data": {
      "text/plain": [
       "<AxesSubplot: >"
      ]
     },
     "execution_count": 18,
     "metadata": {},
     "output_type": "execute_result"
    },
    {
     "data": {
      "image/png": "[encoded data removed]",
      "text/plain": [
       "<Figure size 640x480 with 1 Axes>"
      ]
     },
     "metadata": {},
     "output_type": "display_data"
    }
   ],
   "source": [
    "data['stab'].hist(bins=100)"
   ]
  },
  {
   "cell_type": "code",
   "execution_count": 19,
   "id": "be30eed9",
   "metadata": {},
   "outputs": [],
   "source": [
    "X=data.drop('stabf',axis=1)\n",
    "Y=data['stabf']"
   ]
  },
  {
   "cell_type": "code",
   "execution_count": 20,
   "id": "76f76b4b",
   "metadata": {},
   "outputs": [
    {
     "data": {
      "text/html": [
       "<div>\n",
       "<style scoped>\n",
       "    .dataframe tbody tr th:only-of-type {\n",
       "        vertical-align: middle;\n",
       "    }\n",
       "\n",
       "    .dataframe tbody tr th {\n",
       "        vertical-align: top;\n",
       "    }\n",
       "\n",
       "    .dataframe thead th {\n",
       "        text-align: right;\n",
       "    }\n",
       "</style>\n",
       "<table border=\"1\" class=\"dataframe\">\n",
       "  <thead>\n",
       "    <tr style=\"text-align: right;\">\n",
       "      <th></th>\n",
       "      <th>tau1</th>\n",
       "      <th>tau2</th>\n",
       "      <th>tau3</th>\n",
       "      <th>tau4</th>\n",
       "      <th>p1</th>\n",
       "      <th>p2</th>\n",
       "      <th>p3</th>\n",
       "      <th>p4</th>\n",
       "      <th>g1</th>\n",
       "      <th>g2</th>\n",
       "      <th>g3</th>\n",
       "      <th>g4</th>\n",
       "      <th>stab</th>\n",
       "    </tr>\n",
       "  </thead>\n",
       "  <tbody>\n",
       "    <tr>\n",
       "      <th>6492</th>\n",
       "      <td>3.040082</td>\n",
       "      <td>1.264136</td>\n",
       "      <td>5.778545</td>\n",
       "      <td>6.010557</td>\n",
       "      <td>4.645184</td>\n",
       "      <td>-1.239593</td>\n",
       "      <td>-1.801269</td>\n",
       "      <td>-1.604322</td>\n",
       "      <td>0.889409</td>\n",
       "      <td>0.546466</td>\n",
       "      <td>0.265205</td>\n",
       "      <td>0.348784</td>\n",
       "      <td>-0.015202</td>\n",
       "    </tr>\n",
       "    <tr>\n",
       "      <th>6369</th>\n",
       "      <td>7.176550</td>\n",
       "      <td>1.109211</td>\n",
       "      <td>6.236248</td>\n",
       "      <td>8.646527</td>\n",
       "      <td>3.613660</td>\n",
       "      <td>-0.839949</td>\n",
       "      <td>-0.926431</td>\n",
       "      <td>-1.847280</td>\n",
       "      <td>0.899462</td>\n",
       "      <td>0.167607</td>\n",
       "      <td>0.461128</td>\n",
       "      <td>0.548266</td>\n",
       "      <td>0.048935</td>\n",
       "    </tr>\n",
       "    <tr>\n",
       "      <th>236</th>\n",
       "      <td>2.461683</td>\n",
       "      <td>5.739945</td>\n",
       "      <td>3.968155</td>\n",
       "      <td>4.565215</td>\n",
       "      <td>3.709408</td>\n",
       "      <td>-1.186592</td>\n",
       "      <td>-1.620213</td>\n",
       "      <td>-0.902603</td>\n",
       "      <td>0.185973</td>\n",
       "      <td>0.379463</td>\n",
       "      <td>0.741676</td>\n",
       "      <td>0.789974</td>\n",
       "      <td>0.041399</td>\n",
       "    </tr>\n",
       "    <tr>\n",
       "      <th>5842</th>\n",
       "      <td>0.741622</td>\n",
       "      <td>2.560866</td>\n",
       "      <td>0.633000</td>\n",
       "      <td>3.754777</td>\n",
       "      <td>4.881115</td>\n",
       "      <td>-1.783950</td>\n",
       "      <td>-1.578765</td>\n",
       "      <td>-1.518399</td>\n",
       "      <td>0.147803</td>\n",
       "      <td>0.775020</td>\n",
       "      <td>0.071307</td>\n",
       "      <td>0.421447</td>\n",
       "      <td>-0.021892</td>\n",
       "    </tr>\n",
       "    <tr>\n",
       "      <th>6783</th>\n",
       "      <td>4.745362</td>\n",
       "      <td>3.060269</td>\n",
       "      <td>5.642228</td>\n",
       "      <td>4.585327</td>\n",
       "      <td>2.247008</td>\n",
       "      <td>-1.168583</td>\n",
       "      <td>-0.553857</td>\n",
       "      <td>-0.524568</td>\n",
       "      <td>0.174238</td>\n",
       "      <td>0.173783</td>\n",
       "      <td>0.233525</td>\n",
       "      <td>0.646369</td>\n",
       "      <td>-0.022454</td>\n",
       "    </tr>\n",
       "  </tbody>\n",
       "</table>\n",
       "</div>"
      ],
      "text/plain": [
       "          tau1      tau2      tau3      tau4        p1        p2        p3  \\\n",
       "6492  3.040082  1.264136  5.778545  6.010557  4.645184 -1.239593 -1.801269   \n",
       "6369  7.176550  1.109211  6.236248  8.646527  3.613660 -0.839949 -0.926431   \n",
       "236   2.461683  5.739945  3.968155  4.565215  3.709408 -1.186592 -1.620213   \n",
       "5842  0.741622  2.560866  0.633000  3.754777  4.881115 -1.783950 -1.578765   \n",
       "6783  4.745362  3.060269  5.642228  4.585327  2.247008 -1.168583 -0.553857   \n",
       "\n",
       "            p4        g1        g2        g3        g4      stab  \n",
       "6492 -1.604322  0.889409  0.546466  0.265205  0.348784 -0.015202  \n",
       "6369 -1.847280  0.899462  0.167607  0.461128  0.548266  0.048935  \n",
       "236  -0.902603  0.185973  0.379463  0.741676  0.789974  0.041399  \n",
       "5842 -1.518399  0.147803  0.775020  0.071307  0.421447 -0.021892  \n",
       "6783 -0.524568  0.174238  0.173783  0.233525  0.646369 -0.022454  "
      ]
     },
     "execution_count": 20,
     "metadata": {},
     "output_type": "execute_result"
    }
   ],
   "source": [
    "X.sample(5)"
   ]
  },
  {
   "cell_type": "code",
   "execution_count": 21,
   "id": "3599f5a4",
   "metadata": {},
   "outputs": [
    {
     "data": {
      "text/plain": [
       "2745    0\n",
       "4071    0\n",
       "4342    0\n",
       "6423    0\n",
       "2002    1\n",
       "Name: stabf, dtype: int64"
      ]
     },
     "execution_count": 21,
     "metadata": {},
     "output_type": "execute_result"
    }
   ],
   "source": [
    "Y.sample(5)"
   ]
  },
  {
   "cell_type": "code",
   "execution_count": 22,
   "id": "20a4a628",
   "metadata": {},
   "outputs": [],
   "source": [
    "X_train,X_test,Y_train,Y_test= train_test_split(X,Y,test_size=0.2)"
   ]
  },
  {
   "cell_type": "code",
   "execution_count": 23,
   "id": "c56e012d",
   "metadata": {},
   "outputs": [],
   "source": [
    "from sklearn.linear_model import LogisticRegression"
   ]
  },
  {
   "cell_type": "code",
   "execution_count": 24,
   "id": "a5e6c8fb",
   "metadata": {},
   "outputs": [
    {
     "name": "stdout",
     "output_type": "stream",
     "text": [
      "[0.8955 0.9005 0.911  0.894  0.877 ]\n"
     ]
    }
   ],
   "source": [
    "model=LogisticRegression(max_iter=1000) \n",
    "from sklearn.model_selection import cross_val_score \n",
    "cvscore=cross_val_score(model,X,Y,cv=5) \n",
    "print(cvscore)"
   ]
  },
  {
   "cell_type": "code",
   "execution_count": 25,
   "id": "5f3b1f91",
   "metadata": {},
   "outputs": [
    {
     "data": {
      "text/plain": [
       "0.8935"
      ]
     },
     "execution_count": 25,
     "metadata": {},
     "output_type": "execute_result"
    }
   ],
   "source": [
    "model.fit(X_train,Y_train) \n",
    "model.score(X_test,Y_test)"
   ]
  },
  {
   "cell_type": "code",
   "execution_count": 26,
   "id": "54f964de",
   "metadata": {},
   "outputs": [
    {
     "data": {
      "text/plain": [
       "'\"from sklearn import svm \\nsvm_model = svm.SVC(kernel=\\'rbf\\',C=30,gamma=\\'auto\\')\\nsvm_model.fit(X_train,Y_train)\\nsvm_model.score(X_test,Y_test)'"
      ]
     },
     "execution_count": 26,
     "metadata": {},
     "output_type": "execute_result"
    }
   ],
   "source": [
    "\"\"\"\"from sklearn import svm \n",
    "svm_model = svm.SVC(kernel='rbf',C=30,gamma='auto')\n",
    "svm_model.fit(X_train,Y_train)\n",
    "svm_model.score(X_test,Y_test)\"\"\""
   ]
  },
  {
   "cell_type": "code",
   "execution_count": 27,
   "id": "3dfee1cf",
   "metadata": {},
   "outputs": [
    {
     "name": "stdout",
     "output_type": "stream",
     "text": [
      "[0.03125, 0.125, 0.5, 2, 8, 32, 128, 512, 2048, 8192, 32768]\n"
     ]
    }
   ],
   "source": [
    "l=[] \n",
    "for i in[-5 ,-3 ,-1 ,1,3,5,7,9,11,13,15]: \n",
    "    l.append(pow(2,i)) \n",
    "    \n",
    "print(l)"
   ]
  },
  {
   "cell_type": "code",
   "execution_count": 28,
   "id": "8eb83f58",
   "metadata": {},
   "outputs": [],
   "source": [
    "from sklearn.model_selection import cross_val_score\n",
    "from sklearn import svm \n",
    "#from sklearn.model_selection import GridSearchCV\n",
    "#clf=GridSearchCV(svm.SVC(gamma=\"auto\"),{'C':l,'kernel':['linear','rbf','poly']},cv=5,return_train_score=False) \n",
    "#clf.fit(X,Y)    \n",
    "#clf.cv_results_"
   ]
  },
  {
   "cell_type": "code",
   "execution_count": 29,
   "id": "60dc8a4f",
   "metadata": {},
   "outputs": [],
   "source": [
    "#kernels=['rbf','linear','poly']  \n",
    "#avg_scores={} \n",
    "#for k in kernels: \n",
    " #   for cval in l: \n",
    "    #    cv=cross_val_score(svm.SVC(kernel=k,C=cval,gamma='auto'),X,Y,cv=5) \n",
    "     #   avg_scores[k+'_'+str(cval)]=np.average(cv) \n",
    "#\"avg_scores"
   ]
  },
  {
   "cell_type": "code",
   "execution_count": 30,
   "id": "8b6569dd",
   "metadata": {},
   "outputs": [],
   "source": [
    "#kernels=['rbf','linear','poly']  \n",
    "#avg_scores={}\n",
    "#for k in kernels: \n",
    " #   for cval in l: \n",
    "  #      cv=cross_val_score(svm.SVC(kernel=k,C=cval,gamma='auto'),X,Y,cv=5) \n",
    "   #     avg_scores[k+'_'+str(cval)]=np.average(cv) \n",
    "#avg_scores"
   ]
  },
  {
   "cell_type": "code",
   "execution_count": 31,
   "id": "e027aaca",
   "metadata": {},
   "outputs": [],
   "source": [
    "#kernels=['rbf','linear','poly']  \n",
    "#avg_scores={}\n",
    "#for k in kernels: \n",
    " #   for cval in l: \n",
    "  #      cv=cross_val_score(svm.SVC(kernel=k,C=cval,gamma='auto'),X,Y,cv=5) \n",
    "   #     avg_scores[k+'_'+str(cval)]=np.average(cv) \n",
    "#avg_scores "
   ]
  },
  {
   "cell_type": "code",
   "execution_count": 32,
   "id": "a0e6d781",
   "metadata": {},
   "outputs": [
    {
     "data": {
      "text/plain": [
       "\"rcf=RandomForestClassifier() \\nparam_dist = {'n_estimators': [10, 50, 100, 200],\\n              'max_features': ['sqrt', 'log2', None],\\n              'max_depth': [None, 5, 10, 20],\\n              'min_samples_split': [2, 5, 10],\\n              'min_samples_leaf': [1, 2, 4]}\\nrandom_search = RandomizedSearchCV(estimator=rcf, param_distributions=param_dist, n_iter=10, cv=5, n_jobs=-1) \\nrandom_search.fit(X,Y)\\nprint(random_search.best_params_)\""
      ]
     },
     "execution_count": 32,
     "metadata": {},
     "output_type": "execute_result"
    }
   ],
   "source": [
    "from sklearn.ensemble import RandomForestClassifier  \n",
    "from sklearn.model_selection import RandomizedSearchCV\n",
    "rcf=RandomForestClassifier() \n",
    "param_dist = {'n_estimators': [10, 50, 100, 200],\n",
    "              'max_features': ['sqrt', 'log2', None],\n",
    "              'max_depth': [None, 5, 10, 20],\n",
    "              'min_samples_split': [2, 5, 10],\n",
    "              'min_samples_leaf': [1, 2, 4]}\n",
    "random_search = RandomizedSearchCV(estimator=rcf, param_distributions=param_dist, n_iter=10, cv=5, n_jobs=-1) \n",
    "random_search.fit(X,Y)\n",
    "print(random_search.best_params_)\"\"\""
   ]
  },
  {
   "cell_type": "code",
   "execution_count": 33,
   "id": "c21ceb34",
   "metadata": {},
   "outputs": [],
   "source": [
    "#rcf2=RandomForestClassifier(n_estimators=50,min_samples_split=5,min_samples_leaf=2,max_features='sqrt',max_depth=None) \n",
    "#cv=cross_val_score(rcf2,X,Y,cv=5)  \n",
    "#print(np.average(cv))\n"
   ]
  },
  {
   "cell_type": "code",
   "execution_count": 34,
   "id": "0844cd37",
   "metadata": {},
   "outputs": [
    {
     "name": "stdout",
     "output_type": "stream",
     "text": [
      "Meilleurs hyperparamètres :  {'C': 1000, 'max_iter': 500, 'solver': 'lbfgs', 'tol': 1}\n",
      "Score de validation croisée :  0.9972999999999999\n"
     ]
    }
   ],
   "source": [
    "\n",
    "from sklearn.model_selection import GridSearchCV\n",
    "hyperparams = {\n",
    "    'C': [0.001, 0.01, 0.1, 1, 10, 100, 1000],\n",
    "    'tol': [0.0001, 0.001, 0.01, 0.1, 1],\n",
    "    'solver': ['newton-cg', 'lbfgs', 'liblinear', 'sag', 'saga'],\n",
    "    'max_iter': [50, 100, 500, 1000]\n",
    "}\n",
    "\n",
    "\n",
    "lr = LogisticRegression()\n",
    "\n",
    "grid_search = GridSearchCV(lr, hyperparams, cv=5, n_jobs=-1)\n",
    "grid_search.fit(X,Y)\n",
    "\n",
    "print(\"Meilleurs hyperparamètres : \", grid_search.best_params_)\n",
    "print(\"Score de validation croisée : \", grid_search.best_score_)\n",
    "\n",
    "\n"
   ]
  }
 ],
 "metadata": {
  "kernelspec": {
   "display_name": "Python 3 (ipykernel)",
   "language": "python",
   "name": "python3"
  },
  "language_info": {
   "codemirror_mode": {
    "name": "ipython",
    "version": 3
   },
   "file_extension": ".py",
   "mimetype": "text/x-python",
   "name": "python",
   "nbconvert_exporter": "python",
   "pygments_lexer": "ipython3",
   "version": "3.10.0"
  }
 },
 "nbformat": 4,
 "nbformat_minor": 5
}
